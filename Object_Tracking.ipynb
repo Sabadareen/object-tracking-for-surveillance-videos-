{
  "nbformat": 4,
  "nbformat_minor": 0,
  "metadata": {
    "colab": {
      "provenance": [],
      "authorship_tag": "ABX9TyN9GmQhSTSY8IbVQSs7IXUz",
      "include_colab_link": true
    },
    "kernelspec": {
      "name": "python3",
      "display_name": "Python 3"
    },
    "language_info": {
      "name": "python"
    }
  },
  "cells": [
    {
      "cell_type": "markdown",
      "metadata": {
        "id": "view-in-github",
        "colab_type": "text"
      },
      "source": [
        "<a href=\"https://colab.research.google.com/github/Sabadareen/object-tracking-for-surveillance-videos-/blob/main/Object_Tracking.ipynb\" target=\"_parent\"><img src=\"https://colab.research.google.com/assets/colab-badge.svg\" alt=\"Open In Colab\"/></a>"
      ]
    },
    {
      "cell_type": "code",
      "execution_count": null,
      "metadata": {
        "colab": {
          "base_uri": "https://localhost:8080/"
        },
        "id": "8lTGDiLdKOf2",
        "outputId": "2cc5146e-52ec-4d21-9ede-7f9db0276d77"
      },
      "outputs": [
        {
          "output_type": "stream",
          "name": "stdout",
          "text": [
            "Requirement already satisfied: tensorflow in /usr/local/lib/python3.10/dist-packages (2.17.1)\n",
            "Requirement already satisfied: absl-py>=1.0.0 in /usr/local/lib/python3.10/dist-packages (from tensorflow) (1.4.0)\n",
            "Requirement already satisfied: astunparse>=1.6.0 in /usr/local/lib/python3.10/dist-packages (from tensorflow) (1.6.3)\n",
            "Requirement already satisfied: flatbuffers>=24.3.25 in /usr/local/lib/python3.10/dist-packages (from tensorflow) (24.3.25)\n",
            "Requirement already satisfied: gast!=0.5.0,!=0.5.1,!=0.5.2,>=0.2.1 in /usr/local/lib/python3.10/dist-packages (from tensorflow) (0.6.0)\n",
            "Requirement already satisfied: google-pasta>=0.1.1 in /usr/local/lib/python3.10/dist-packages (from tensorflow) (0.2.0)\n",
            "Requirement already satisfied: h5py>=3.10.0 in /usr/local/lib/python3.10/dist-packages (from tensorflow) (3.12.1)\n",
            "Requirement already satisfied: libclang>=13.0.0 in /usr/local/lib/python3.10/dist-packages (from tensorflow) (18.1.1)\n",
            "Requirement already satisfied: ml-dtypes<0.5.0,>=0.3.1 in /usr/local/lib/python3.10/dist-packages (from tensorflow) (0.4.1)\n",
            "Requirement already satisfied: opt-einsum>=2.3.2 in /usr/local/lib/python3.10/dist-packages (from tensorflow) (3.4.0)\n",
            "Requirement already satisfied: packaging in /usr/local/lib/python3.10/dist-packages (from tensorflow) (24.2)\n",
            "Requirement already satisfied: protobuf!=4.21.0,!=4.21.1,!=4.21.2,!=4.21.3,!=4.21.4,!=4.21.5,<5.0.0dev,>=3.20.3 in /usr/local/lib/python3.10/dist-packages (from tensorflow) (4.25.5)\n",
            "Requirement already satisfied: requests<3,>=2.21.0 in /usr/local/lib/python3.10/dist-packages (from tensorflow) (2.32.3)\n",
            "Requirement already satisfied: setuptools in /usr/local/lib/python3.10/dist-packages (from tensorflow) (75.1.0)\n",
            "Requirement already satisfied: six>=1.12.0 in /usr/local/lib/python3.10/dist-packages (from tensorflow) (1.17.0)\n",
            "Requirement already satisfied: termcolor>=1.1.0 in /usr/local/lib/python3.10/dist-packages (from tensorflow) (2.5.0)\n",
            "Requirement already satisfied: typing-extensions>=3.6.6 in /usr/local/lib/python3.10/dist-packages (from tensorflow) (4.12.2)\n",
            "Requirement already satisfied: wrapt>=1.11.0 in /usr/local/lib/python3.10/dist-packages (from tensorflow) (1.17.0)\n",
            "Requirement already satisfied: grpcio<2.0,>=1.24.3 in /usr/local/lib/python3.10/dist-packages (from tensorflow) (1.68.1)\n",
            "Requirement already satisfied: tensorboard<2.18,>=2.17 in /usr/local/lib/python3.10/dist-packages (from tensorflow) (2.17.1)\n",
            "Requirement already satisfied: keras>=3.2.0 in /usr/local/lib/python3.10/dist-packages (from tensorflow) (3.5.0)\n",
            "Requirement already satisfied: tensorflow-io-gcs-filesystem>=0.23.1 in /usr/local/lib/python3.10/dist-packages (from tensorflow) (0.37.1)\n",
            "Requirement already satisfied: numpy<2.0.0,>=1.23.5 in /usr/local/lib/python3.10/dist-packages (from tensorflow) (1.26.4)\n",
            "Requirement already satisfied: wheel<1.0,>=0.23.0 in /usr/local/lib/python3.10/dist-packages (from astunparse>=1.6.0->tensorflow) (0.45.1)\n",
            "Requirement already satisfied: rich in /usr/local/lib/python3.10/dist-packages (from keras>=3.2.0->tensorflow) (13.9.4)\n",
            "Requirement already satisfied: namex in /usr/local/lib/python3.10/dist-packages (from keras>=3.2.0->tensorflow) (0.0.8)\n",
            "Requirement already satisfied: optree in /usr/local/lib/python3.10/dist-packages (from keras>=3.2.0->tensorflow) (0.13.1)\n",
            "Requirement already satisfied: charset-normalizer<4,>=2 in /usr/local/lib/python3.10/dist-packages (from requests<3,>=2.21.0->tensorflow) (3.4.0)\n",
            "Requirement already satisfied: idna<4,>=2.5 in /usr/local/lib/python3.10/dist-packages (from requests<3,>=2.21.0->tensorflow) (3.10)\n",
            "Requirement already satisfied: urllib3<3,>=1.21.1 in /usr/local/lib/python3.10/dist-packages (from requests<3,>=2.21.0->tensorflow) (2.2.3)\n",
            "Requirement already satisfied: certifi>=2017.4.17 in /usr/local/lib/python3.10/dist-packages (from requests<3,>=2.21.0->tensorflow) (2024.12.14)\n",
            "Requirement already satisfied: markdown>=2.6.8 in /usr/local/lib/python3.10/dist-packages (from tensorboard<2.18,>=2.17->tensorflow) (3.7)\n",
            "Requirement already satisfied: tensorboard-data-server<0.8.0,>=0.7.0 in /usr/local/lib/python3.10/dist-packages (from tensorboard<2.18,>=2.17->tensorflow) (0.7.2)\n",
            "Requirement already satisfied: werkzeug>=1.0.1 in /usr/local/lib/python3.10/dist-packages (from tensorboard<2.18,>=2.17->tensorflow) (3.1.3)\n",
            "Requirement already satisfied: MarkupSafe>=2.1.1 in /usr/local/lib/python3.10/dist-packages (from werkzeug>=1.0.1->tensorboard<2.18,>=2.17->tensorflow) (3.0.2)\n",
            "Requirement already satisfied: markdown-it-py>=2.2.0 in /usr/local/lib/python3.10/dist-packages (from rich->keras>=3.2.0->tensorflow) (3.0.0)\n",
            "Requirement already satisfied: pygments<3.0.0,>=2.13.0 in /usr/local/lib/python3.10/dist-packages (from rich->keras>=3.2.0->tensorflow) (2.18.0)\n",
            "Requirement already satisfied: mdurl~=0.1 in /usr/local/lib/python3.10/dist-packages (from markdown-it-py>=2.2.0->rich->keras>=3.2.0->tensorflow) (0.1.2)\n"
          ]
        }
      ],
      "source": [
        "!pip install tensorflow"
      ]
    },
    {
      "cell_type": "markdown",
      "source": [],
      "metadata": {
        "id": "YiegSwdJjqh-"
      }
    },
    {
      "cell_type": "code",
      "source": [
        "\n",
        "!pip install opencv-python-headless\n",
        "\n",
        "import cv2\n",
        "import numpy as np\n",
        "from object_detection.py import ObjectDetection\n",
        "\n",
        "import math\n",
        "from google.colab.patches import cv2_imshow  # Import cv2_imshow\n",
        "\n",
        "# Initialize Object Detection\n",
        "od = ObjectDetection()\n",
        "\n",
        "cap = cv2.VideoCapture(\"/content/video.mp4\")\n",
        "\n",
        "# Get video properties for saving\n",
        "frame_width = int(cap.get(cv2.CAP_PROP_FRAME_WIDTH))\n",
        "frame_height = int(cap.get(cv2.CAP_PROP_FRAME_HEIGHT))\n",
        "fps = int(cap.get(cv2.CAP_PROP_FPS))\n",
        "output_video = cv2.VideoWriter(\n",
        "    \"processed_video.avi\", cv2.VideoWriter_fourcc(*\"XVID\"), fps, (frame_width, frame_height)\n",
        ")\n",
        "\n",
        "# Initialize variables\n",
        "count = 0\n",
        "center_points_prev_frame = []\n",
        "tracking_objects = {}\n",
        "track_id = 0\n",
        "\n",
        "while True:\n",
        "    ret, frame = cap.read()\n",
        "    count += 1\n",
        "    if not ret:\n",
        "        break\n",
        "\n",
        "    # Store center points of the current frame\n",
        "    center_points_cur_frame = []\n",
        "\n",
        "    # Detect Objects on the frame\n",
        "    (class_ids, scores, boxes) = od.detect(frame)\n",
        "    for box in boxes:\n",
        "        (x, y, w, h) = box\n",
        "\n",
        "        # Calculate center points of the bounding box\n",
        "        cx = int((x + x + w) / 2)\n",
        "        cy = int((y + y + h) / 2)\n",
        "        center_points_cur_frame.append((cx, cy))\n",
        "\n",
        "        # Draw rectangle around detected object\n",
        "        cv2.rectangle(frame, (x, y), (x + w, y + h), (0, 255, 0), 2)\n",
        "\n",
        "    # Update tracking objects\n",
        "    for pt in center_points_cur_frame:\n",
        "        same_object_detected = False\n",
        "        for object_id, prev_pt in tracking_objects.items():\n",
        "            distance = math.hypot(prev_pt[0] - pt[0], prev_pt[1] - pt[1])\n",
        "\n",
        "            if distance < 35:  # Threshold distance\n",
        "                tracking_objects[object_id] = pt\n",
        "                same_object_detected = True\n",
        "                break\n",
        "\n",
        "        # Assign new ID to new object\n",
        "        if not same_object_detected:\n",
        "            tracking_objects[track_id] = pt\n",
        "            track_id += 1\n",
        "\n",
        "    # Draw tracking points and IDs\n",
        "    for object_id, pt in tracking_objects.items():\n",
        "        # Draw a filled circle for tracking\n",
        "        cv2.circle(frame, pt, 5, (0, 0, 255), -1)\n",
        "\n",
        "        # Ensure numbers are drawn last, on top of all objects\n",
        "        cv2.putText(\n",
        "            frame,\n",
        "            str(object_id),\n",
        "            (pt[0] - 10, pt[1] - 10),  # Offset for better visibility\n",
        "            cv2.FONT_HERSHEY_SIMPLEX,\n",
        "            0.6,\n",
        "            (255, 255, 255),  # White text for visibility\n",
        "            2,  # Thickness\n",
        "            lineType=cv2.LINE_AA,  # Anti-aliased text\n",
        "        )\n",
        "\n",
        "    # Write the processed frame to the output video\n",
        "    output_video.write(frame)\n",
        "\n",
        "    # Show the full frame using cv2_imshow\n",
        "    cv2_imshow(frame) # Using cv2_imshow instead of cv2.imshow\n",
        "\n",
        "    # Prepare for next frame\n",
        "    center_points_prev_frame = center_points_cur_frame.copy()\n",
        "\n",
        "    # Press ESC to exit\n",
        "    key = cv2.waitKey(1)\n",
        "    if key == 27:\n",
        "        break\n",
        "\n",
        "cap.release()\n",
        "output_video.release()\n",
        "cv2.destroyAllWindows()"
      ],
      "metadata": {
        "id": "Vd9c5ZvNLzrH"
      },
      "execution_count": null,
      "outputs": []
    }
  ]
}